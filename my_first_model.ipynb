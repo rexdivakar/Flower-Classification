{
 "cells": [
  {
   "cell_type": "code",
   "execution_count": 1,
   "metadata": {},
   "outputs": [],
   "source": [
    "import numpy as np\n",
    "import os"
   ]
  },
  {
   "cell_type": "code",
   "execution_count": 2,
   "metadata": {},
   "outputs": [],
   "source": [
    "img_width=150\n",
    "img_height=150"
   ]
  },
  {
   "cell_type": "code",
   "execution_count": 3,
   "metadata": {},
   "outputs": [
    {
     "name": "stdout",
     "output_type": "stream",
     "text": [
      "(150, 150, 3)\n"
     ]
    }
   ],
   "source": [
    "from tensorflow.keras import backend as K\n",
    "\n",
    "if K.image_data_format() == 'channels_first': \n",
    "    input_shape = (3, img_width, img_height) \n",
    "else: \n",
    "    input_shape = (img_width, img_height, 3) \n",
    "print(input_shape)"
   ]
  },
  {
   "cell_type": "code",
   "execution_count": 4,
   "metadata": {},
   "outputs": [],
   "source": [
    "path=\"C:\\\\Users\\\\rexdi\\\\Desktop\\\\flowers\\\\\"\n",
    "\n",
    "train_dir=path+'\\\\Train\\\\'\n",
    "valid_dir=path+'\\\\Valid'\n",
    "\n",
    "epochs=10\n",
    "batch_size=100"
   ]
  },
  {
   "cell_type": "code",
   "execution_count": 5,
   "metadata": {},
   "outputs": [],
   "source": [
    "from tensorflow.keras.preprocessing.image import ImageDataGenerator\n",
    "#Image agumentation\n",
    "train_datagen = ImageDataGenerator( \n",
    "                rescale = 1. / 255, \n",
    "                 shear_range = 0.2, \n",
    "                  zoom_range = 0.2, \n",
    "            horizontal_flip = True) \n",
    "  \n",
    "test_datagen = ImageDataGenerator(rescale = 1. / 255) "
   ]
  },
  {
   "cell_type": "code",
   "execution_count": 6,
   "metadata": {},
   "outputs": [
    {
     "name": "stdout",
     "output_type": "stream",
     "text": [
      "Found 4323 images belonging to 5 classes.\n",
      "Found 1468 images belonging to 5 classes.\n"
     ]
    }
   ],
   "source": [
    "train_generator = train_datagen.flow_from_directory(train_dir, \n",
    "                              target_size =(img_width, img_height), \n",
    "                     batch_size = batch_size, class_mode ='categorical') \n",
    "  \n",
    "validation_generator = test_datagen.flow_from_directory( \n",
    "                                    valid_dir, \n",
    "                   target_size =(img_width, img_height), \n",
    "          batch_size = batch_size, class_mode ='categorical') "
   ]
  },
  {
   "cell_type": "code",
   "execution_count": 7,
   "metadata": {},
   "outputs": [],
   "source": [
    "from tensorflow.keras.models import Sequential\n",
    "from tensorflow.keras.layers import Dense,Conv2D,Flatten,MaxPooling2D,Dropout,Activation\n",
    "from tensorflow.keras.optimizers import Adam"
   ]
  },
  {
   "cell_type": "code",
   "execution_count": 8,
   "metadata": {},
   "outputs": [
    {
     "name": "stdout",
     "output_type": "stream",
     "text": [
      "Model: \"sequential\"\n",
      "_________________________________________________________________\n",
      "Layer (type)                 Output Shape              Param #   \n",
      "=================================================================\n",
      "conv2d (Conv2D)              (None, 148, 148, 32)      896       \n",
      "_________________________________________________________________\n",
      "max_pooling2d (MaxPooling2D) (None, 74, 74, 32)        0         \n",
      "_________________________________________________________________\n",
      "conv2d_1 (Conv2D)            (None, 72, 72, 64)        18496     \n",
      "_________________________________________________________________\n",
      "max_pooling2d_1 (MaxPooling2 (None, 36, 36, 64)        0         \n",
      "_________________________________________________________________\n",
      "conv2d_2 (Conv2D)            (None, 34, 34, 128)       73856     \n",
      "_________________________________________________________________\n",
      "max_pooling2d_2 (MaxPooling2 (None, 17, 17, 128)       0         \n",
      "_________________________________________________________________\n",
      "conv2d_3 (Conv2D)            (None, 15, 15, 256)       295168    \n",
      "_________________________________________________________________\n",
      "max_pooling2d_3 (MaxPooling2 (None, 5, 5, 256)         0         \n",
      "_________________________________________________________________\n",
      "flatten (Flatten)            (None, 6400)              0         \n",
      "_________________________________________________________________\n",
      "dense (Dense)                (None, 128)               819328    \n",
      "_________________________________________________________________\n",
      "dropout (Dropout)            (None, 128)               0         \n",
      "_________________________________________________________________\n",
      "dense_1 (Dense)              (None, 5)                 645       \n",
      "=================================================================\n",
      "Total params: 1,208,389\n",
      "Trainable params: 1,208,389\n",
      "Non-trainable params: 0\n",
      "_________________________________________________________________\n"
     ]
    }
   ],
   "source": [
    "model=Sequential()\n",
    "\n",
    "model.add(Conv2D(32,(3,3),input_shape=(150,150,3),activation='relu'))\n",
    "model.add(MaxPooling2D(pool_size=(2,2)))\n",
    "\n",
    "model.add(Conv2D(64,(3,3),activation='relu'))\n",
    "model.add(MaxPooling2D(pool_size=(2,2)))\n",
    "\n",
    "model.add(Conv2D(128,(3,3),activation='relu'))\n",
    "model.add(MaxPooling2D(pool_size=(2,2)))\n",
    "\n",
    "model.add(Conv2D(256,(3,3),activation='relu'))\n",
    "model.add(MaxPooling2D(pool_size=(3,3)))\n",
    "\n",
    "model.add(Flatten())\n",
    "\n",
    "model.add(Dense(units=128, activation='relu'))\n",
    "model.add(Dropout(0.5))\n",
    "model.add(Dense(units=5, activation='softmax'))\n",
    "opt = Adam(lr=1e-3, decay=1e-6)\n",
    "model.compile(metrics=['accuracy'],optimizer='adam',loss='categorical_crossentropy')\n",
    "\n",
    "model.summary()"
   ]
  },
  {
   "cell_type": "code",
   "execution_count": 9,
   "metadata": {},
   "outputs": [
    {
     "data": {
      "text/plain": [
       "((4323,), (1468,))"
      ]
     },
     "execution_count": 9,
     "metadata": {},
     "output_type": "execute_result"
    }
   ],
   "source": [
    "train_generator.classes.shape,validation_generator.classes.shape"
   ]
  },
  {
   "cell_type": "code",
   "execution_count": null,
   "metadata": {},
   "outputs": [
    {
     "name": "stdout",
     "output_type": "stream",
     "text": [
      "Epoch 1/48\n",
      "44/44 [==============================] - 28s 638ms/step - loss: 1.4171 - accuracy: 0.3736 - val_loss: 1.2298 - val_accuracy: 0.4557\n",
      "Epoch 2/48\n",
      "44/44 [==============================] - 24s 555ms/step - loss: 1.1997 - accuracy: 0.4902 - val_loss: 1.0735 - val_accuracy: 0.5497\n",
      "Epoch 3/48\n",
      "44/44 [==============================] - 25s 557ms/step - loss: 1.0637 - accuracy: 0.5702 - val_loss: 0.9477 - val_accuracy: 0.6172\n",
      "Epoch 4/48\n",
      "44/44 [==============================] - 26s 590ms/step - loss: 0.9567 - accuracy: 0.6359 - val_loss: 0.9005 - val_accuracy: 0.6437\n",
      "Epoch 5/48\n",
      "44/44 [==============================] - 25s 566ms/step - loss: 0.9247 - accuracy: 0.6563 - val_loss: 0.8824 - val_accuracy: 0.6621\n",
      "Epoch 6/48\n",
      "44/44 [==============================] - 25s 560ms/step - loss: 0.9246 - accuracy: 0.6526 - val_loss: 0.8228 - val_accuracy: 0.6860\n",
      "Epoch 7/48\n",
      "44/44 [==============================] - 24s 552ms/step - loss: 0.8234 - accuracy: 0.6840 - val_loss: 0.7876 - val_accuracy: 0.6982\n",
      "Epoch 8/48\n",
      "44/44 [==============================] - 24s 554ms/step - loss: 0.7976 - accuracy: 0.7048 - val_loss: 0.7823 - val_accuracy: 0.6962\n",
      "Epoch 9/48\n",
      "44/44 [==============================] - 24s 553ms/step - loss: 0.7762 - accuracy: 0.7083 - val_loss: 0.7366 - val_accuracy: 0.7309\n",
      "Epoch 10/48\n",
      "44/44 [==============================] - 25s 558ms/step - loss: 0.7392 - accuracy: 0.7263 - val_loss: 0.7313 - val_accuracy: 0.7050\n",
      "Epoch 11/48\n",
      "44/44 [==============================] - 24s 550ms/step - loss: 0.7224 - accuracy: 0.7361 - val_loss: 0.7005 - val_accuracy: 0.7337\n",
      "Epoch 12/48\n",
      "44/44 [==============================] - 24s 554ms/step - loss: 0.6800 - accuracy: 0.7400 - val_loss: 0.6386 - val_accuracy: 0.7636\n",
      "Epoch 13/48\n",
      "44/44 [==============================] - 24s 555ms/step - loss: 0.6651 - accuracy: 0.7562 - val_loss: 0.6127 - val_accuracy: 0.7677\n",
      "Epoch 14/48\n",
      "44/44 [==============================] - 24s 553ms/step - loss: 0.6472 - accuracy: 0.7645 - val_loss: 0.6318 - val_accuracy: 0.7582\n",
      "Epoch 15/48\n",
      "34/44 [======================>.......] - ETA: 4s - loss: 0.6151 - accuracy: 0.7761"
     ]
    }
   ],
   "source": [
    "op = model.fit_generator(train_generator,epochs=48,validation_data=validation_generator)"
   ]
  },
  {
   "cell_type": "code",
   "execution_count": null,
   "metadata": {},
   "outputs": [],
   "source": [
    "model.save('op.h5')"
   ]
  },
  {
   "cell_type": "code",
   "execution_count": null,
   "metadata": {},
   "outputs": [],
   "source": [
    "import matplotlib.pyplot as plt\n",
    "from matplotlib import style\n",
    "import seaborn as sns\n",
    "\n",
    "%matplotlib inline\n",
    "\n",
    "plt.plot(op.history['loss'])\n",
    "plt.plot(op.history['val_loss'])\n",
    "plt.title('Model Loss')\n",
    "plt.ylabel('Loss')\n",
    "plt.xlabel('Epochs')\n",
    "plt.legend(['train', 'test'])\n",
    "plt.show()"
   ]
  },
  {
   "cell_type": "code",
   "execution_count": null,
   "metadata": {},
   "outputs": [],
   "source": [
    "plt.plot(op.history['accuracy'])\n",
    "plt.plot(op.history['val_accuracy'])\n",
    "plt.title('Model Accuracy')\n",
    "plt.ylabel('Accuracy')\n",
    "plt.xlabel('Epochs')\n",
    "plt.legend(['train', 'test'])\n",
    "plt.show()"
   ]
  },
  {
   "cell_type": "code",
   "execution_count": null,
   "metadata": {},
   "outputs": [],
   "source": [
    "from tensorflow.keras.preprocessing.image import load_img,img_to_array\n",
    "#Data Load\n",
    "flower_test=load_img(path+'\\\\b_rose.jpg',target_size=(150,150))\n",
    "#print(flower_test.format)\n",
    "\n",
    "flower_img_array=img_to_array(flower_test)\n",
    "print('Conversion to array',flower_img_array.shape)\n",
    "\n",
    "flower = np.expand_dims(flower_img_array, axis=0)         #Pre processing\n",
    "print('Dimension expansion',flower.shape)\n",
    "\n",
    "pred=model.predict(flower)\n",
    "op_flower=np.argmax(pred,axis=1)\n",
    "\n",
    "if op_flower==0:\n",
    "    print('Daisy')\n",
    "elif op_flower==1:\n",
    "    print('Dandelion')\n",
    "elif op_flower==2:\n",
    "    print('Rose')\n",
    "elif op_flower==3:\n",
    "    print('Sunflower')\n",
    "elif op_flower==4:\n",
    "    print('Tulip')"
   ]
  }
 ],
 "metadata": {
  "kernelspec": {
   "display_name": "Python 3",
   "language": "python",
   "name": "python3"
  },
  "language_info": {
   "codemirror_mode": {
    "name": "ipython",
    "version": 3
   },
   "file_extension": ".py",
   "mimetype": "text/x-python",
   "name": "python",
   "nbconvert_exporter": "python",
   "pygments_lexer": "ipython3",
   "version": "3.7.4"
  }
 },
 "nbformat": 4,
 "nbformat_minor": 2
}
